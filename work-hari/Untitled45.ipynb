{
  "cells": [
    {
      "cell_type": "code",
      "execution_count": 1,
      "metadata": {
        "colab": {
          "base_uri": "https://localhost:8080/"
        },
        "id": "G9ypPEG-Ta-W",
        "outputId": "d588a615-6b66-4139-a835-c22783238399"
      },
      "outputs": [
        {
          "name": "stdout",
          "output_type": "stream",
          "text": [
            "CSV file 'positions.csv' created with 100 positions.\n"
          ]
        }
      ],
      "source": [
        "#Generate  data and write a csv file\n",
        "import csv\n",
        "\n",
        "# Output filename\n",
        "filename = \"positions.csv\"\n",
        "\n",
        "# Number of entries\n",
        "num_entries = 100  # You can change this number\n",
        "\n",
        "# Create and write to the CSV file\n",
        "with open(filename, mode='w', newline='') as file:\n",
        "    writer = csv.writer(file)\n",
        "    writer.writerow([\"position\"])  # Write header\n",
        "\n",
        "    for i in range(num_entries):\n",
        "        writer.writerow([i])  # Write each position\n",
        "\n",
        "print(f\"CSV file '{filename}' created with {num_entries} positions.\")\n"
      ]
    },
    {
      "cell_type": "code",
      "execution_count": 2,
      "metadata": {
        "colab": {
          "base_uri": "https://localhost:8080/",
          "height": 424
        },
        "id": "f4KSH-H7WFFJ",
        "outputId": "b17f6e5b-1f5b-4895-8487-5b594f0f73fd"
      },
      "outputs": [
        {
          "data": {
            "text/html": [
              "<div>\n",
              "<style scoped>\n",
              "    .dataframe tbody tr th:only-of-type {\n",
              "        vertical-align: middle;\n",
              "    }\n",
              "\n",
              "    .dataframe tbody tr th {\n",
              "        vertical-align: top;\n",
              "    }\n",
              "\n",
              "    .dataframe thead th {\n",
              "        text-align: right;\n",
              "    }\n",
              "</style>\n",
              "<table border=\"1\" class=\"dataframe\">\n",
              "  <thead>\n",
              "    <tr style=\"text-align: right;\">\n",
              "      <th></th>\n",
              "      <th>position</th>\n",
              "    </tr>\n",
              "  </thead>\n",
              "  <tbody>\n",
              "    <tr>\n",
              "      <th>0</th>\n",
              "      <td>1</td>\n",
              "    </tr>\n",
              "    <tr>\n",
              "      <th>1</th>\n",
              "      <td>2</td>\n",
              "    </tr>\n",
              "    <tr>\n",
              "      <th>2</th>\n",
              "      <td>3</td>\n",
              "    </tr>\n",
              "    <tr>\n",
              "      <th>3</th>\n",
              "      <td>4</td>\n",
              "    </tr>\n",
              "    <tr>\n",
              "      <th>4</th>\n",
              "      <td>5</td>\n",
              "    </tr>\n",
              "    <tr>\n",
              "      <th>...</th>\n",
              "      <td>...</td>\n",
              "    </tr>\n",
              "    <tr>\n",
              "      <th>94</th>\n",
              "      <td>95</td>\n",
              "    </tr>\n",
              "    <tr>\n",
              "      <th>95</th>\n",
              "      <td>96</td>\n",
              "    </tr>\n",
              "    <tr>\n",
              "      <th>96</th>\n",
              "      <td>97</td>\n",
              "    </tr>\n",
              "    <tr>\n",
              "      <th>97</th>\n",
              "      <td>98</td>\n",
              "    </tr>\n",
              "    <tr>\n",
              "      <th>98</th>\n",
              "      <td>99</td>\n",
              "    </tr>\n",
              "  </tbody>\n",
              "</table>\n",
              "<p>99 rows × 1 columns</p>\n",
              "</div>"
            ],
            "text/plain": [
              "    position\n",
              "0          1\n",
              "1          2\n",
              "2          3\n",
              "3          4\n",
              "4          5\n",
              "..       ...\n",
              "94        95\n",
              "95        96\n",
              "96        97\n",
              "97        98\n",
              "98        99\n",
              "\n",
              "[99 rows x 1 columns]"
            ]
          },
          "execution_count": 2,
          "metadata": {},
          "output_type": "execute_result"
        }
      ],
      "source": [
        "import pandas as pd\n",
        "\n",
        "# Read the CSV file into a DataFrame\n",
        "df = pd.read_csv(\"positions.csv\")\n",
        "new=df.iloc[1:].reset_index(drop=True)\n",
        "new"
      ]
    },
    {
      "cell_type": "code",
      "execution_count": 3,
      "metadata": {
        "colab": {
          "base_uri": "https://localhost:8080/"
        },
        "id": "q2lgLMs_aLwT",
        "outputId": "06aef2be-2df2-4ab2-9996-1616af020c8d"
      },
      "outputs": [
        {
          "name": "stdout",
          "output_type": "stream",
          "text": [
            "[1, 2, 3, 4, 5, 6, 7, 8, 9, 10, 11, 12, 13, 14, 15, 16, 17, 18, 19, 20, 21, 22, 23, 24, 25, 26, 27, 28, 29, 30, 31, 32, 33, 34, 35, 36, 37, 38, 39, 40, 41, 42, 43, 44, 45, 46, 47, 48, 49, 50, 51, 52, 53, 54, 55, 56, 57, 58, 59, 60, 61, 62, 63, 64, 65, 66, 67, 68, 69, 70, 71, 72, 73, 74, 75, 76, 77, 78, 79, 80, 81, 82, 83, 84, 85, 86, 87, 88, 89, 90, 91, 92, 93, 94, 95, 96, 97, 98, 99]\n"
          ]
        }
      ],
      "source": [
        "position_list = new['position'].tolist()\n",
        "print(position_list)\n"
      ]
    },
    {
      "cell_type": "code",
      "execution_count": 4,
      "metadata": {
        "id": "0hgf7iJeXwS6"
      },
      "outputs": [],
      "source": [
        "def kinemat(position_list,dt):\n",
        "  velocity=[]\n",
        "  acceleration=[]\n",
        "  for i in range(0,len(position_list)-2):\n",
        "    vi=(position_list[i+1]-position_list[i])/dt\n",
        "    ai=(position_list[i+2]-2*position_list[i+1]+position_list[i])/(dt**2)\n",
        "    velocity.append(vi)\n",
        "    acceleration.append(ai)\n",
        "  return velocity,acceleration\n",
        "\n"
      ]
    },
    {
      "cell_type": "code",
      "execution_count": 5,
      "metadata": {
        "colab": {
          "base_uri": "https://localhost:8080/"
        },
        "id": "bNDLipUHdBsA",
        "outputId": "d1635b93-6d01-4a33-ada3-69d02710dfe2"
      },
      "outputs": [
        {
          "name": "stdout",
          "output_type": "stream",
          "text": [
            "[0.5062201510045421, 2.4694838114804307, 4.382788515651441, 8.082774878440995, 15.260847238970637, 24.807268965491424, 35.38854393016735, 49.0100422757714, 64.05069123948306, 83.23584068402529, 99.53835502673678]\n"
          ]
        }
      ],
      "source": [
        "import random\n",
        "\n",
        "# Parameters\n",
        "x0 = 0       # initial position (meters)\n",
        "v0 = 0       # initial velocity (m/s)\n",
        "a = 2        # acceleration (m/s^2)\n",
        "t_max = 10   # total time in seconds\n",
        "dt = 1       # time step in seconds\n",
        "noise_std = 1.0  # standard deviation of noise (meters)\n",
        "\n",
        "# Generate noisy positions at each time step\n",
        "positions = []\n",
        "\n",
        "for t in range(0, t_max + 1, dt):\n",
        "    true_x = x0 + v0 * t + 0.5 * a * t**2\n",
        "    noisy_x = true_x + random.gauss(0, noise_std)\n",
        "    positions.append(noisy_x)\n",
        "\n",
        "print(positions)\n"
      ]
    },
    {
      "cell_type": "code",
      "execution_count": 6,
      "metadata": {
        "colab": {
          "base_uri": "https://localhost:8080/"
        },
        "id": "IAffAxwOcGrF",
        "outputId": "7de4b2ce-e88b-4b57-db0b-0cb20e63cbac"
      },
      "outputs": [
        {
          "data": {
            "text/plain": [
              "[0.6544212201586296,\n",
              " 0.6377682347236702,\n",
              " 1.233328787596518,\n",
              " 2.392690786843214,\n",
              " 3.182140575506929,\n",
              " 3.5270916548919757,\n",
              " 4.540499448534682,\n",
              " 5.013549654570554,\n",
              " 6.395049814847411]"
            ]
          },
          "execution_count": 6,
          "metadata": {},
          "output_type": "execute_result"
        }
      ],
      "source": [
        "kinemat(positions,3)[0]"
      ]
    },
    {
      "cell_type": "code",
      "execution_count": 7,
      "metadata": {
        "colab": {
          "base_uri": "https://localhost:8080/",
          "height": 467
        },
        "id": "dnTr8oFOcIhB",
        "outputId": "3d0d780c-70b9-4efa-fc47-ddafbc155e3e"
      },
      "outputs": [
        {
          "data": {
            "text/plain": [
              "[<matplotlib.lines.Line2D at 0x1beda8ac470>]"
            ]
          },
          "execution_count": 7,
          "metadata": {},
          "output_type": "execute_result"
        },
        {
          "data": {
            "image/png": "[encoded data removed]",
            "text/plain": [
              "<Figure size 640x480 with 1 Axes>"
            ]
          },
          "metadata": {},
          "output_type": "display_data"
        }
      ],
      "source": [
        "time_points = [i * dt for i in range(len(positions))]\n",
        "\n",
        "import matplotlib.pyplot as plt\n",
        "\n",
        "plt.xlabel(\"time\")\n",
        "plt.ylabel(\"positions\")\n",
        "plt.plot(positions,time_points)\n",
        "\n"
      ]
    },
    {
      "cell_type": "code",
      "execution_count": 8,
      "metadata": {
        "colab": {
          "base_uri": "https://localhost:8080/",
          "height": 467
        },
        "id": "DsPN27CBedRF",
        "outputId": "09b726ee-4615-4c15-c6c6-d7c19f2413cd"
      },
      "outputs": [
        {
          "data": {
            "text/plain": [
              "Text(0, 0.5, 'velocity')"
            ]
          },
          "execution_count": 8,
          "metadata": {},
          "output_type": "execute_result"
        },
        {
          "data": {
            "image/png": "[encoded data removed]",
            "text/plain": [
              "<Figure size 640x480 with 1 Axes>"
            ]
          },
          "metadata": {},
          "output_type": "display_data"
        }
      ],
      "source": [
        "plt.plot(kinemat(positions,3)[0], [i * dt for i in range(len(kinemat(positions,3)[0]))] )\n",
        "plt.xlabel(\"time\")\n",
        "plt.ylabel(\"velocity\")"
      ]
    },
    {
      "cell_type": "code",
      "execution_count": 9,
      "metadata": {
        "colab": {
          "base_uri": "https://localhost:8080/",
          "height": 467
        },
        "id": "Zf8PepRve215",
        "outputId": "502fda89-215c-4a35-fcd7-eca2c277da94"
      },
      "outputs": [
        {
          "data": {
            "text/plain": [
              "Text(0, 0.5, 'acceleration')"
            ]
          },
          "execution_count": 9,
          "metadata": {},
          "output_type": "execute_result"
        },
        {
          "data": {
            "image/png": "[encoded data removed]",
            "text/plain": [
              "<Figure size 640x480 with 1 Axes>"
            ]
          },
          "metadata": {},
          "output_type": "display_data"
        }
      ],
      "source": [
        "plt.plot(kinemat(positions,3)[1], [i * dt for i in range(len(kinemat(positions,3)[0]))] )\n",
        "plt.xlabel(\"time\")\n",
        "plt.ylabel(\"acceleration\")"
      ]
    },
    {
      "cell_type": "code",
      "execution_count": null,
      "metadata": {},
      "outputs": [],
      "source": []
    }
  ],
  "metadata": {
    "colab": {
      "provenance": []
    },
    "kernelspec": {
      "display_name": "base",
      "language": "python",
      "name": "python3"
    },
    "language_info": {
      "codemirror_mode": {
        "name": "ipython",
        "version": 3
      },
      "file_extension": ".py",
      "mimetype": "text/x-python",
      "name": "python",
      "nbconvert_exporter": "python",
      "pygments_lexer": "ipython3",
      "version": "3.12.4"
    }
  },
  "nbformat": 4,
  "nbformat_minor": 0
}
